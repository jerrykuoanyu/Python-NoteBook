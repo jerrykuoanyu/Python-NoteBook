{
  "cells": [
    {
      "metadata": {},
      "cell_type": "markdown",
      "source": "# python 1/22\n\nfile1:\n\n#!/usr/bin/python3\nprint(\"Hello World!\")\n\n>>> python3 file1\n\n---> Hello World!\n\n---------------------\n\n>>>print(\"Hello World!\")\n\n---> Hello World!\n\n\nchmod u+x file1      (make the file1 to executable file)\n\n>>> import file1     (import the file and run)\n"
    },
    {
      "metadata": {
        "trusted": false
      },
      "cell_type": "code",
      "source": "#!/usr/bin/python3\nprint(\"Hello World!\")## without \"\"\n\ntitle = \"The Meaning of life\"   \ntitle                ## with \"\"",
      "execution_count": 1,
      "outputs": [
        {
          "name": "stdout",
          "output_type": "stream",
          "text": "Hello World!\n"
        },
        {
          "data": {
            "text/plain": "'The Meaning of life'"
          },
          "execution_count": 1,
          "metadata": {},
          "output_type": "execute_result"
        }
      ]
    },
    {
      "metadata": {},
      "cell_type": "markdown",
      "source": "myfile.py:\n\ntitle = \"The Meaning of life\"\n\n>>>import myfile\n>>>myfile.title \n---> \"The Meaning of life\"     with\"\"\n\n>>>print(myfile.title)\n---> The Meaning of life       without\"\"\n\nfrom myfile import title     (import part of the file )\n\n"
    },
    {
      "metadata": {},
      "cell_type": "markdown",
      "source": "# threenames.py:\n  a = 'dead'\n  b = 'parrot'\n  c = 'sketch'\n  print(a,b,c)\n  \n  --------------\n import threenames\n dead parrot sketch\n >>> threename.b, threename.c\n \n ('parrot','sketch')"
    },
    {
      "metadata": {},
      "cell_type": "markdown",
      "source": "# list\n list1 = ['abc','def','ghi']\n tuple1 = ('abc','def','ghi')\n list1[1].upper()v\n tuple1[1].upper()x\n "
    },
    {
      "metadata": {
        "trusted": false
      },
      "cell_type": "code",
      "source": " list1 = ['abc','def','ghi']\n tuple1 = ('abc','def','ghi')\n set1 = {4,2,1}\nprint(list1[1].upper())\nprint(tuple1[2].upper())\n\nlist1[0]='0123'\nprint(list1)\n#tuple1[0]='0123' wrong",
      "execution_count": 27,
      "outputs": [
        {
          "name": "stdout",
          "output_type": "stream",
          "text": "DEF\nGHI\n['0123', 'def', 'ghi']\n"
        }
      ]
    },
    {
      "metadata": {
        "trusted": false
      },
      "cell_type": "code",
      "source": "set1={4,2,1}\nprint(set1)\nset1.add(5)\nprint(set1)\nset1.update([6,7])\nprint(set1)\nset1.discard(4)\nprint(set1)\nset1.remove(5)\nprint(set1)",
      "execution_count": 29,
      "outputs": [
        {
          "name": "stdout",
          "output_type": "stream",
          "text": "{1, 2, 4}\n{1, 2, 4, 5}\n{1, 2, 4, 5, 6, 7}\n{1, 2, 5, 6, 7}\n{1, 2, 6, 7}\n"
        }
      ]
    },
    {
      "metadata": {
        "trusted": false
      },
      "cell_type": "code",
      "source": "s = 'Spam'\ns[0]\n#s[0] = 's' Error\n##string is an object cant be modified",
      "execution_count": 3,
      "outputs": [
        {
          "data": {
            "text/plain": "'S'"
          },
          "execution_count": 3,
          "metadata": {},
          "output_type": "execute_result"
        }
      ]
    },
    {
      "metadata": {
        "trusted": false
      },
      "cell_type": "code",
      "source": "list1",
      "execution_count": 4,
      "outputs": [
        {
          "data": {
            "text/plain": "['abc', 'def', 'ghi']"
          },
          "execution_count": 4,
          "metadata": {},
          "output_type": "execute_result"
        }
      ]
    },
    {
      "metadata": {
        "trusted": false
      },
      "cell_type": "code",
      "source": "list2=list1  # its a link not a copy only\nlist2\n\n",
      "execution_count": 5,
      "outputs": [
        {
          "data": {
            "text/plain": "['abc', 'def', 'ghi']"
          },
          "execution_count": 5,
          "metadata": {},
          "output_type": "execute_result"
        }
      ]
    },
    {
      "metadata": {
        "trusted": false
      },
      "cell_type": "code",
      "source": "list1.append('xyz')\nlist1",
      "execution_count": 6,
      "outputs": [
        {
          "data": {
            "text/plain": "['abc', 'def', 'ghi', 'xyz']"
          },
          "execution_count": 6,
          "metadata": {},
          "output_type": "execute_result"
        }
      ]
    },
    {
      "metadata": {
        "trusted": false
      },
      "cell_type": "code",
      "source": "#numbers1 = [1,2,3,.....,100]\nnumber1 = list(range(1,101)) ##not include 101\nnumber2 = number1[9:19]\nnumber2\n##[a:b] include a but not include b a.....b-1\n##a and b are indexes\n##[a:] [a:b] [:b]\n## copy: list2 = list1[:]   copy",
      "execution_count": 7,
      "outputs": [
        {
          "data": {
            "text/plain": "[10, 11, 12, 13, 14, 15, 16, 17, 18, 19]"
          },
          "execution_count": 7,
          "metadata": {},
          "output_type": "execute_result"
        }
      ]
    },
    {
      "metadata": {
        "trusted": false
      },
      "cell_type": "code",
      "source": "myFoods = ['pizza','feelafed','carrod']\nfriendFoods = myFoods[:] ##friendFoods is a diff list now   copy from myFoods\nmyFoods.append('chocolate')\nfriendFoods.append('ice cream')\nprint(myFoods)\nprint(friendFoods)",
      "execution_count": 8,
      "outputs": [
        {
          "name": "stdout",
          "output_type": "stream",
          "text": "['pizza', 'feelafed', 'carrod', 'chocolate']\n['pizza', 'feelafed', 'carrod', 'ice cream']\n"
        }
      ]
    },
    {
      "metadata": {
        "trusted": false
      },
      "cell_type": "code",
      "source": "players = ['charters','martina','Micheale','florence','eli']\nplayers[1:4]",
      "execution_count": 9,
      "outputs": [
        {
          "data": {
            "text/plain": "['martina', 'Micheale', 'florence']"
          },
          "execution_count": 9,
          "metadata": {},
          "output_type": "execute_result"
        }
      ]
    },
    {
      "metadata": {
        "trusted": false
      },
      "cell_type": "code",
      "source": "players[:4]",
      "execution_count": 10,
      "outputs": [
        {
          "data": {
            "text/plain": "['charters', 'martina', 'Micheale', 'florence']"
          },
          "execution_count": 10,
          "metadata": {},
          "output_type": "execute_result"
        }
      ]
    },
    {
      "metadata": {
        "trusted": false
      },
      "cell_type": "code",
      "source": "players[2:]",
      "execution_count": 11,
      "outputs": [
        {
          "data": {
            "text/plain": "['Micheale', 'florence', 'eli']"
          },
          "execution_count": 11,
          "metadata": {},
          "output_type": "execute_result"
        }
      ]
    },
    {
      "metadata": {
        "trusted": false
      },
      "cell_type": "code",
      "source": "for player in players[:3]:   ##a new line is set between each item by default or put an augment to change\n    print(player.title())",
      "execution_count": 12,
      "outputs": [
        {
          "name": "stdout",
          "output_type": "stream",
          "text": "Charters\nMartina\nMicheale\n"
        }
      ]
    },
    {
      "metadata": {
        "trusted": false
      },
      "cell_type": "code",
      "source": "squares = []\n\nfor value in range(1,11):\n    square = value**2\n    squares.append(square)\nprint(squares)",
      "execution_count": 13,
      "outputs": [
        {
          "name": "stdout",
          "output_type": "stream",
          "text": "[1, 4, 9, 16, 25, 36, 49, 64, 81, 100]\n"
        }
      ]
    },
    {
      "metadata": {
        "trusted": false
      },
      "cell_type": "code",
      "source": "squares = []\nsquares = [value**2 for value in range(1,11)] ## create a loop and append the value into the list\nsquares",
      "execution_count": 14,
      "outputs": [
        {
          "data": {
            "text/plain": "[1, 4, 9, 16, 25, 36, 49, 64, 81, 100]"
          },
          "execution_count": 14,
          "metadata": {},
          "output_type": "execute_result"
        }
      ]
    },
    {
      "metadata": {
        "trusted": false
      },
      "cell_type": "code",
      "source": "nums = list(range(2,11,3))\nnums",
      "execution_count": 15,
      "outputs": [
        {
          "data": {
            "text/plain": "[2, 5, 8]"
          },
          "execution_count": 15,
          "metadata": {},
          "output_type": "execute_result"
        }
      ]
    },
    {
      "metadata": {
        "trusted": false
      },
      "cell_type": "code",
      "source": "l = [value**2 for value in range(1,11)]\nl",
      "execution_count": 16,
      "outputs": [
        {
          "data": {
            "text/plain": "[1, 4, 9, 16, 25, 36, 49, 64, 81, 100]"
          },
          "execution_count": 16,
          "metadata": {},
          "output_type": "execute_result"
        }
      ]
    },
    {
      "metadata": {
        "trusted": false
      },
      "cell_type": "code",
      "source": "l2 = l[2:5]\nl2",
      "execution_count": 17,
      "outputs": [
        {
          "data": {
            "text/plain": "[9, 16, 25]"
          },
          "execution_count": 17,
          "metadata": {},
          "output_type": "execute_result"
        }
      ]
    },
    {
      "metadata": {
        "trusted": false
      },
      "cell_type": "code",
      "source": "L = [123,'spam',1.23]\nprint(\"length of L is:\"+str(len(L)))\nprint(L[:-1])\nprint(L+[4,5,6])\nprint(L)",
      "execution_count": 18,
      "outputs": [
        {
          "name": "stdout",
          "output_type": "stream",
          "text": "length of L is:3\n[123, 'spam']\n[123, 'spam', 1.23, 4, 5, 6]\n[123, 'spam', 1.23]\n"
        }
      ]
    },
    {
      "metadata": {
        "trusted": false
      },
      "cell_type": "code",
      "source": "M = [[1,2,3],[4,5,6],[7,8,9]]\nM",
      "execution_count": 19,
      "outputs": [
        {
          "data": {
            "text/plain": "[[1, 2, 3], [4, 5, 6], [7, 8, 9]]"
          },
          "execution_count": 19,
          "metadata": {},
          "output_type": "execute_result"
        }
      ]
    },
    {
      "metadata": {
        "trusted": false
      },
      "cell_type": "code",
      "source": "list(row[1] for row in M)  ##go through each row and get the second element",
      "execution_count": 20,
      "outputs": [
        {
          "data": {
            "text/plain": "[2, 5, 8]"
          },
          "execution_count": 20,
          "metadata": {},
          "output_type": "execute_result"
        }
      ]
    },
    {
      "metadata": {
        "trusted": false
      },
      "cell_type": "code",
      "source": "list(row[2] for row in M if row[2]%2==0)",
      "execution_count": 21,
      "outputs": [
        {
          "data": {
            "text/plain": "[6]"
          },
          "execution_count": 21,
          "metadata": {},
          "output_type": "execute_result"
        }
      ]
    },
    {
      "metadata": {
        "trusted": false
      },
      "cell_type": "code",
      "source": "list(M[row][row] for row in [0,1,2])",
      "execution_count": 22,
      "outputs": [
        {
          "data": {
            "text/plain": "[1, 5, 9]"
          },
          "execution_count": 22,
          "metadata": {},
          "output_type": "execute_result"
        }
      ]
    },
    {
      "metadata": {
        "trusted": false
      },
      "cell_type": "code",
      "source": "[c*2 for c in \"space\"]",
      "execution_count": 23,
      "outputs": [
        {
          "data": {
            "text/plain": "['ss', 'pp', 'aa', 'cc', 'ee']"
          },
          "execution_count": 23,
          "metadata": {},
          "output_type": "execute_result"
        }
      ]
    },
    {
      "metadata": {
        "trusted": false
      },
      "cell_type": "code",
      "source": "list(range(-6,7,2))",
      "execution_count": 24,
      "outputs": [
        {
          "data": {
            "text/plain": "[-6, -4, -2, 0, 2, 4, 6]"
          },
          "execution_count": 24,
          "metadata": {},
          "output_type": "execute_result"
        }
      ]
    },
    {
      "metadata": {
        "trusted": false
      },
      "cell_type": "code",
      "source": "[[x**2,x**3] for x in range(4)]",
      "execution_count": 25,
      "outputs": [
        {
          "data": {
            "text/plain": "[[0, 0], [1, 1], [4, 8], [9, 27]]"
          },
          "execution_count": 25,
          "metadata": {},
          "output_type": "execute_result"
        }
      ]
    },
    {
      "metadata": {
        "trusted": false
      },
      "cell_type": "code",
      "source": "my_list = [x * y for x in [20, 40, 60] for y in [2, 4, 6] if x > 20 if y>2]\nprint(my_list)",
      "execution_count": 110,
      "outputs": [
        {
          "name": "stdout",
          "output_type": "stream",
          "text": "[160, 240, 240, 360]\n"
        }
      ]
    },
    {
      "metadata": {
        "trusted": false
      },
      "cell_type": "code",
      "source": "M = [[1,2,3],\n     [4,5,6],\n     [7,8,9]]\nM\n#comment\n\"\"\"\n   This is the start of the string\n   This is the second line of the string\n   end.\n\"\"\"",
      "execution_count": 26,
      "outputs": [
        {
          "data": {
            "text/plain": "'\\n   This is the start of the string\\n   This is the second line of the string\\n   end.\\n'"
          },
          "execution_count": 26,
          "metadata": {},
          "output_type": "execute_result"
        }
      ]
    },
    {
      "metadata": {},
      "cell_type": "markdown",
      "source": "## 1/29"
    },
    {
      "metadata": {
        "trusted": false
      },
      "cell_type": "code",
      "source": "age = 12\nif age<4:\n    print(\"Admission cost is $0\")\nelif age < 18:\n    print(\"Admission cost is $5\")\nelse :\n    print(\"Admission cost is $10\")",
      "execution_count": 27,
      "outputs": [
        {
          "name": "stdout",
          "output_type": "stream",
          "text": "Admission cost is $5\n"
        }
      ]
    },
    {
      "metadata": {
        "trusted": false
      },
      "cell_type": "code",
      "source": "toppings = ['mushrooms','onions','pineapple'] #python knows its a list\nprint('mushrooms' in toppings)#check element is in the list or not",
      "execution_count": 28,
      "outputs": [
        {
          "name": "stdout",
          "output_type": "stream",
          "text": "True\n"
        }
      ]
    },
    {
      "metadata": {
        "trusted": false
      },
      "cell_type": "code",
      "source": "users=['andrew','carolina','david']\nuser = 'marie'\n\nif user not in users:\n    print(str(user)+' is not in the users')\nelse:\n    print(str(user)+' is in the users')",
      "execution_count": 29,
      "outputs": [
        {
          "name": "stdout",
          "output_type": "stream",
          "text": "marie is not in the users\n"
        }
      ]
    },
    {
      "metadata": {
        "trusted": false
      },
      "cell_type": "code",
      "source": "answer = 17\nif answer != 42:\n    print('not the answer')\nage_0=22\nage_1=18\nprint(age_0>=21 and age_1>=21)",
      "execution_count": 30,
      "outputs": [
        {
          "name": "stdout",
          "output_type": "stream",
          "text": "not the answer\nFalse\n"
        }
      ]
    },
    {
      "metadata": {
        "trusted": false
      },
      "cell_type": "code",
      "source": "#dictionary \n# for each item there are a key and a value\n#key:value \nalien_0={'color':'green','points':5}\nprint(alien_0)\nprint(alien_0['color'])\n\nalien_0={}#empty dictionary\nalien_0['color']='green'\nprint(alien_0)\nalien_0['points']=5\nprint(alien_0)\n\nalien_0['color']='yellow'\nprint(alien_0)\n\nalien_0['x_position']=0\nalien_0['y_position']=25\nprint(alien_0)\n\n\ndel alien_0['color']\nprint(alien_0)\n\nalien_0[10]=20 # 10 will be convert to a str???\nprint(alien_0)\n#alien_0['10']#wrong\nalien_0[10]\n\nalien_0 = {'color':'green','points':'5'}\nalien_1 = {'color':'yellow','points':'10'}\nalien_2 = {'color':'red','points':'15'}\naliens = [alien_0,alien_1,alien_2]\nfor alien in aliens:\n    print(alien,end='\\t')\n\n    \naliens=[]\nfor alien in range(30):\n    alien={'color':'green','points':5,'speed':'slow'}\n    aliens.append(alien)\nfor alien in aliens[:5]:\n    print(alien)\n    \n    \n\n",
      "execution_count": 31,
      "outputs": [
        {
          "name": "stdout",
          "output_type": "stream",
          "text": "{'color': 'green', 'points': 5}\ngreen\n{'color': 'green'}\n{'color': 'green', 'points': 5}\n{'color': 'yellow', 'points': 5}\n{'color': 'yellow', 'points': 5, 'x_position': 0, 'y_position': 25}\n{'points': 5, 'x_position': 0, 'y_position': 25}\n{'points': 5, 'x_position': 0, 'y_position': 25, 10: 20}\n{'color': 'green', 'points': '5'}\t{'color': 'yellow', 'points': '10'}\t{'color': 'red', 'points': '15'}\t{'color': 'green', 'points': 5, 'speed': 'slow'}\n{'color': 'green', 'points': 5, 'speed': 'slow'}\n{'color': 'green', 'points': 5, 'speed': 'slow'}\n{'color': 'green', 'points': 5, 'speed': 'slow'}\n{'color': 'green', 'points': 5, 'speed': 'slow'}\n"
        }
      ]
    },
    {
      "metadata": {
        "trusted": false
      },
      "cell_type": "code",
      "source": "   x=5\n    #x#wrong indent",
      "execution_count": 32,
      "outputs": []
    },
    {
      "metadata": {
        "trusted": false
      },
      "cell_type": "code",
      "source": "languages={'jen':'c'\n            ,'Jerry':'Python'\n           ,'Sam':'Java'\n        \n         }\n  \nlanguages",
      "execution_count": 42,
      "outputs": [
        {
          "data": {
            "text/plain": "{'jen': 'c', 'Jerry': 'Python', 'Sam': 'Java'}"
          },
          "execution_count": 42,
          "metadata": {},
          "output_type": "execute_result"
        }
      ]
    },
    {
      "metadata": {
        "trusted": false
      },
      "cell_type": "code",
      "source": "for name,language in languages.items():\n    print(name.title()+\"'s favorite is \"+language.title()+\".\")",
      "execution_count": 43,
      "outputs": [
        {
          "name": "stdout",
          "output_type": "stream",
          "text": "Jen's favorite is C.\nJerry's favorite is Python.\nSam's favorite is Java.\n"
        }
      ]
    },
    {
      "metadata": {
        "trusted": false
      },
      "cell_type": "code",
      "source": "for name in sorted(languages.keys()):\n    print(name.title())\n    print(languages[name].title())",
      "execution_count": 35,
      "outputs": [
        {
          "name": "stdout",
          "output_type": "stream",
          "text": "Jen\nC\nJerry\nPython\nSam\nJava\n"
        }
      ]
    },
    {
      "metadata": {
        "trusted": false
      },
      "cell_type": "code",
      "source": "language2 = {\n    'Jerry':['python','c++'],\n    'Jane':['c'],\n    'Grace':['matlab','cobol','java']\n}\n",
      "execution_count": 36,
      "outputs": []
    },
    {
      "metadata": {},
      "cell_type": "markdown",
      "source": "# 2/5 \n    print(args,sep='',end='\\n',file= )   by default stay at the next line\n    print(x,y,sep='\\t',end= )\n    15  20 stay here\n    \n    def f(args):\n        print('Hello')\n    "
    },
    {
      "metadata": {
        "trusted": false
      },
      "cell_type": "code",
      "source": "def name(): print('hello')",
      "execution_count": 37,
      "outputs": []
    },
    {
      "metadata": {
        "trusted": false
      },
      "cell_type": "code",
      "source": "x=10;y=5\n",
      "execution_count": 38,
      "outputs": []
    },
    {
      "metadata": {},
      "cell_type": "markdown",
      "source": "import sys\nsys,input\n\nfor line sys.input:\n    "
    },
    {
      "metadata": {
        "trusted": false
      },
      "cell_type": "code",
      "source": "users={\n    'JERRY':{\n        'first':'ANYU',\n        'last':'KUO',\n        'location':'Taiwan'\n    },\n    'SAM':{\n        'first':'ANSHENG',\n        'last':'KUO',\n        'location':'Taipei'\n        \n    }\n}",
      "execution_count": 39,
      "outputs": []
    },
    {
      "metadata": {
        "trusted": false
      },
      "cell_type": "code",
      "source": "for username,user_info in users.items():\n    print(\"username:\"+username)\n    print(\"first Name: \"+user_info['first'])\n    print(\"last Name:\"+user_info['last'])\n    print(\"location:\"+user_info['location'])",
      "execution_count": 40,
      "outputs": [
        {
          "name": "stdout",
          "output_type": "stream",
          "text": "username:JERRY\nfirst Name: ANYU\nlast Name:KUO\nlocation:Taiwan\nusername:SAM\nfirst Name: ANSHENG\nlast Name:KUO\nlocation:Taipei\n"
        }
      ]
    },
    {
      "metadata": {},
      "cell_type": "markdown",
      "source": "# 2/7\n"
    },
    {
      "metadata": {
        "trusted": false
      },
      "cell_type": "code",
      "source": "x=5\ny='xyz'\nz=[1,2,3]\nprint(x,y,z)\n# %:conversion \nprint('%s,%s,%s'%(x,y,z))\n'''\n%s:string\n%d:integer\n%f:floating number\n%c:character\n%e:scientific number\n%g: python will make a decision for the type\n\n'''",
      "execution_count": 41,
      "outputs": [
        {
          "name": "stdout",
          "output_type": "stream",
          "text": "5 xyz [1, 2, 3]\n5,xyz,[1, 2, 3]\n"
        },
        {
          "data": {
            "text/plain": "'\\n%s:string\\n%d:integer\\n%f:floating number\\n%c:character\\n%e:scientific number\\n%g: python will make a decision for the type\\n\\n'"
          },
          "execution_count": 41,
          "metadata": {},
          "output_type": "execute_result"
        }
      ]
    },
    {
      "metadata": {
        "trusted": false
      },
      "cell_type": "code",
      "source": "print('%+010.2f|%+05d'%(3.14121,-42))",
      "execution_count": 48,
      "outputs": [
        {
          "name": "stdout",
          "output_type": "stream",
          "text": "+000003.14|-0042\n"
        }
      ]
    },
    {
      "metadata": {
        "trusted": false
      },
      "cell_type": "code",
      "source": "print('-'*10, end='')\nprint(\"\\n\")\nprint(\"h\")",
      "execution_count": 3,
      "outputs": [
        {
          "name": "stdout",
          "output_type": "stream",
          "text": "----------\n\nh\n"
        }
      ]
    },
    {
      "metadata": {
        "trusted": false
      },
      "cell_type": "code",
      "source": "s='Jerry'\nL=list(s)\nL\n\n",
      "execution_count": 44,
      "outputs": [
        {
          "data": {
            "text/plain": "['J', 'e', 'r', 'r', 'y']"
          },
          "execution_count": 44,
          "metadata": {},
          "output_type": "execute_result"
        }
      ]
    },
    {
      "metadata": {},
      "cell_type": "markdown",
      "source": "# 2/12"
    },
    {
      "metadata": {
        "trusted": false
      },
      "cell_type": "code",
      "source": "L=[]\nLf=[]\n\nx=1\nwhile x<=100:\n    L.append(x)\n    x+=1\nfor x in range(1,101):\n    Lf.append(x)\nLd=[x*x for x in range(1,101)]\n",
      "execution_count": 45,
      "outputs": []
    },
    {
      "metadata": {
        "trusted": false
      },
      "cell_type": "code",
      "source": "L2=[x for x in range(1,101) if x%3==0]\nL2",
      "execution_count": 46,
      "outputs": [
        {
          "data": {
            "text/plain": "[3,\n 6,\n 9,\n 12,\n 15,\n 18,\n 21,\n 24,\n 27,\n 30,\n 33,\n 36,\n 39,\n 42,\n 45,\n 48,\n 51,\n 54,\n 57,\n 60,\n 63,\n 66,\n 69,\n 72,\n 75,\n 78,\n 81,\n 84,\n 87,\n 90,\n 93,\n 96,\n 99]"
          },
          "execution_count": 46,
          "metadata": {},
          "output_type": "execute_result"
        }
      ]
    },
    {
      "metadata": {
        "trusted": false
      },
      "cell_type": "code",
      "source": "s='Spam'\ns.find('pa')\nt=s.replace('pa','xyz')\nline='aaa,bbb,ccc,ddd'\nline.split(',')\nline.isalpha()",
      "execution_count": 47,
      "outputs": [
        {
          "data": {
            "text/plain": "False"
          },
          "execution_count": 47,
          "metadata": {},
          "output_type": "execute_result"
        }
      ]
    },
    {
      "metadata": {},
      "cell_type": "markdown",
      "source": "stdlin,stdlout,stdlerr\n     in   out    error\ndata.txt\n\nf=open('data.txt','w')\nw:writing\nr:reading\na:appending\nf.write()"
    },
    {
      "metadata": {
        "trusted": false
      },
      "cell_type": "code",
      "source": "f=open('data.txt','w')\nf.write('Hello world\\n')\nf.write('Jerry\\n')\nf.close()",
      "execution_count": 48,
      "outputs": []
    },
    {
      "metadata": {
        "trusted": false
      },
      "cell_type": "code",
      "source": "f=open('data.txt','r')\nx=f.read()\nx",
      "execution_count": 49,
      "outputs": [
        {
          "data": {
            "text/plain": "'Hello world\\nJerry\\n'"
          },
          "execution_count": 49,
          "metadata": {},
          "output_type": "execute_result"
        }
      ]
    },
    {
      "metadata": {
        "trusted": false
      },
      "cell_type": "code",
      "source": "for line in open('data.txt'):\n    print(line,end='')",
      "execution_count": 50,
      "outputs": [
        {
          "name": "stdout",
          "output_type": "stream",
          "text": "Hello world\nJerry\n"
        }
      ]
    },
    {
      "metadata": {
        "trusted": false
      },
      "cell_type": "code",
      "source": "f.close()\nf=open('data.txt','w')\ns='abc'\nf.write(s)",
      "execution_count": 51,
      "outputs": [
        {
          "data": {
            "text/plain": "3"
          },
          "execution_count": 51,
          "metadata": {},
          "output_type": "execute_result"
        }
      ]
    },
    {
      "metadata": {},
      "cell_type": "markdown",
      "source": "print() will have new line in the end by default\nwrite() will not have new line in the end\n\nprint('abc',25,'ln') works\nwrite('abc',25,'ln') does not works since only take 1 argument for write() and string only"
    },
    {
      "metadata": {
        "trusted": false
      },
      "cell_type": "code",
      "source": "T=(1,2,3,4) #tuple\na=(2)\nT+(5,6)",
      "execution_count": 75,
      "outputs": [
        {
          "data": {
            "text/plain": "(1, 2, 3, 4, 5, 6)"
          },
          "execution_count": 75,
          "metadata": {},
          "output_type": "execute_result"
        }
      ]
    },
    {
      "metadata": {
        "trusted": false
      },
      "cell_type": "code",
      "source": "T[0]",
      "execution_count": 76,
      "outputs": [
        {
          "data": {
            "text/plain": "1"
          },
          "execution_count": 76,
          "metadata": {},
          "output_type": "execute_result"
        }
      ]
    },
    {
      "metadata": {
        "trusted": false
      },
      "cell_type": "code",
      "source": "T.index(4)# looking for the value 4 and return the index",
      "execution_count": 77,
      "outputs": [
        {
          "data": {
            "text/plain": "3"
          },
          "execution_count": 77,
          "metadata": {},
          "output_type": "execute_result"
        }
      ]
    },
    {
      "metadata": {
        "trusted": false
      },
      "cell_type": "code",
      "source": "T.count(4) #count how many 4 in the tuple",
      "execution_count": 78,
      "outputs": [
        {
          "data": {
            "text/plain": "1"
          },
          "execution_count": 78,
          "metadata": {},
          "output_type": "execute_result"
        }
      ]
    },
    {
      "metadata": {
        "trusted": false
      },
      "cell_type": "code",
      "source": "#T[0]=2#not working for tuple but list",
      "execution_count": 79,
      "outputs": []
    },
    {
      "metadata": {
        "trusted": false
      },
      "cell_type": "code",
      "source": "T=(2,)+T[1:] #(2,2,3,4)\nT",
      "execution_count": 81,
      "outputs": [
        {
          "data": {
            "text/plain": "(2, 2, 3, 4)"
          },
          "execution_count": 81,
          "metadata": {},
          "output_type": "execute_result"
        }
      ]
    },
    {
      "metadata": {
        "trusted": false
      },
      "cell_type": "code",
      "source": "T='spam',3.0,[11,22,33]\nT",
      "execution_count": 61,
      "outputs": [
        {
          "data": {
            "text/plain": "('spam', 3.0, [11, 22, 33])"
          },
          "execution_count": 61,
          "metadata": {},
          "output_type": "execute_result"
        }
      ]
    },
    {
      "metadata": {
        "trusted": false
      },
      "cell_type": "code",
      "source": "T[2]",
      "execution_count": 62,
      "outputs": [
        {
          "data": {
            "text/plain": "[11, 22, 33]"
          },
          "execution_count": 62,
          "metadata": {},
          "output_type": "execute_result"
        }
      ]
    },
    {
      "metadata": {
        "trusted": false
      },
      "cell_type": "code",
      "source": "x={'s','p','a','m','x','a'}#set\nprint(x)#auto sorted\nx=set('spamxa')\ny={'h','a','m'}\nx,y#creating a tuple",
      "execution_count": 31,
      "outputs": [
        {
          "name": "stdout",
          "output_type": "stream",
          "text": "{'x', 'm', 'p', 's', 'a'}\n"
        },
        {
          "data": {
            "text/plain": "({'a', 'm', 'p', 's', 'x'}, {'a', 'h', 'm'})"
          },
          "execution_count": 31,
          "metadata": {},
          "output_type": "execute_result"
        }
      ]
    },
    {
      "metadata": {},
      "cell_type": "markdown",
      "source": "set: sorted\nlist:"
    },
    {
      "metadata": {},
      "cell_type": "markdown",
      "source": "# 2/14 SET"
    },
    {
      "metadata": {
        "trusted": false
      },
      "cell_type": "code",
      "source": "#SET no repeat element and sorted\nx={'a','m','p','s'}\ny={'m','h','p','s'}\nz={'a','a','c','b'}\nx,y,z",
      "execution_count": 113,
      "outputs": [
        {
          "data": {
            "text/plain": "({'a', 'm', 'p', 's'}, {'h', 'm', 'p', 's'}, {'a', 'b', 'c'})"
          },
          "execution_count": 113,
          "metadata": {},
          "output_type": "execute_result"
        }
      ]
    },
    {
      "metadata": {
        "trusted": false
      },
      "cell_type": "code",
      "source": "x&y#intersection",
      "execution_count": 65,
      "outputs": [
        {
          "data": {
            "text/plain": "{'m', 'p', 's'}"
          },
          "execution_count": 65,
          "metadata": {},
          "output_type": "execute_result"
        }
      ]
    },
    {
      "metadata": {
        "trusted": false
      },
      "cell_type": "code",
      "source": "x|y#union",
      "execution_count": 66,
      "outputs": [
        {
          "data": {
            "text/plain": "{'a', 'h', 'm', 'p', 's'}"
          },
          "execution_count": 66,
          "metadata": {},
          "output_type": "execute_result"
        }
      ]
    },
    {
      "metadata": {
        "trusted": false
      },
      "cell_type": "code",
      "source": "x<y #x is subset of y?",
      "execution_count": 67,
      "outputs": [
        {
          "data": {
            "text/plain": "False"
          },
          "execution_count": 67,
          "metadata": {},
          "output_type": "execute_result"
        }
      ]
    },
    {
      "metadata": {
        "trusted": false
      },
      "cell_type": "code",
      "source": "x>y#y is subset of x?",
      "execution_count": 68,
      "outputs": [
        {
          "data": {
            "text/plain": "False"
          },
          "execution_count": 68,
          "metadata": {},
          "output_type": "execute_result"
        }
      ]
    },
    {
      "metadata": {
        "trusted": false
      },
      "cell_type": "code",
      "source": "A={2,3}\nB={3,7,2}\nA<B",
      "execution_count": 69,
      "outputs": [
        {
          "data": {
            "text/plain": "True"
          },
          "execution_count": 69,
          "metadata": {},
          "output_type": "execute_result"
        }
      ]
    },
    {
      "metadata": {
        "trusted": false
      },
      "cell_type": "code",
      "source": "A>=B",
      "execution_count": 70,
      "outputs": [
        {
          "data": {
            "text/plain": "False"
          },
          "execution_count": 70,
          "metadata": {},
          "output_type": "execute_result"
        }
      ]
    },
    {
      "metadata": {
        "trusted": false
      },
      "cell_type": "code",
      "source": "x-y",
      "execution_count": 71,
      "outputs": [
        {
          "data": {
            "text/plain": "{'a'}"
          },
          "execution_count": 71,
          "metadata": {},
          "output_type": "execute_result"
        }
      ]
    },
    {
      "metadata": {
        "trusted": false
      },
      "cell_type": "code",
      "source": "T1=(n**2 for n in range(4))",
      "execution_count": 96,
      "outputs": []
    },
    {
      "metadata": {
        "trusted": false
      },
      "cell_type": "code",
      "source": "next(T1)#for tuple",
      "execution_count": 97,
      "outputs": [
        {
          "data": {
            "text/plain": "0"
          },
          "execution_count": 97,
          "metadata": {},
          "output_type": "execute_result"
        }
      ]
    },
    {
      "metadata": {
        "trusted": false
      },
      "cell_type": "code",
      "source": "next(T1)",
      "execution_count": 98,
      "outputs": [
        {
          "data": {
            "text/plain": "1"
          },
          "execution_count": 98,
          "metadata": {},
          "output_type": "execute_result"
        }
      ]
    },
    {
      "metadata": {
        "trusted": false
      },
      "cell_type": "code",
      "source": "list(set([2,1,1,3,1]))",
      "execution_count": 99,
      "outputs": [
        {
          "data": {
            "text/plain": "[1, 2, 3]"
          },
          "execution_count": 99,
          "metadata": {},
          "output_type": "execute_result"
        }
      ]
    },
    {
      "metadata": {
        "trusted": false
      },
      "cell_type": "code",
      "source": "sorted(set([1,2,1,3,1]))",
      "execution_count": 76,
      "outputs": [
        {
          "data": {
            "text/plain": "[1, 2, 3]"
          },
          "execution_count": 76,
          "metadata": {},
          "output_type": "execute_result"
        }
      ]
    },
    {
      "metadata": {
        "trusted": false
      },
      "cell_type": "code",
      "source": "set('spam')-set('ham')",
      "execution_count": 77,
      "outputs": [
        {
          "data": {
            "text/plain": "{'p', 's'}"
          },
          "execution_count": 77,
          "metadata": {},
          "output_type": "execute_result"
        }
      ]
    },
    {
      "metadata": {
        "trusted": false
      },
      "cell_type": "code",
      "source": "set('spam')==set('asmp')#both sets have same element",
      "execution_count": 78,
      "outputs": [
        {
          "data": {
            "text/plain": "True"
          },
          "execution_count": 78,
          "metadata": {},
          "output_type": "execute_result"
        }
      ]
    },
    {
      "metadata": {
        "trusted": false
      },
      "cell_type": "code",
      "source": "'p' in set('spam'), 'p'in 'spam', 'ham' in ['egg','spam','ham']",
      "execution_count": 79,
      "outputs": [
        {
          "data": {
            "text/plain": "(True, True, True)"
          },
          "execution_count": 79,
          "metadata": {},
          "output_type": "execute_result"
        }
      ]
    },
    {
      "metadata": {
        "trusted": false
      },
      "cell_type": "code",
      "source": "s={1,23}\ns.add(3)\ns",
      "execution_count": 80,
      "outputs": [
        {
          "data": {
            "text/plain": "{1, 3, 23}"
          },
          "execution_count": 80,
          "metadata": {},
          "output_type": "execute_result"
        }
      ]
    },
    {
      "metadata": {
        "trusted": false
      },
      "cell_type": "code",
      "source": "s.add((1,2,3))\ns",
      "execution_count": 81,
      "outputs": [
        {
          "data": {
            "text/plain": "{(1, 2, 3), 1, 23, 3}"
          },
          "execution_count": 81,
          "metadata": {},
          "output_type": "execute_result"
        }
      ]
    },
    {
      "metadata": {},
      "cell_type": "markdown",
      "source": "# 2/19"
    },
    {
      "metadata": {
        "trusted": false
      },
      "cell_type": "code",
      "source": "#Pizza.py\ndef make_pizza(size,*toppings):# *: means muiltiple string argument\n    print(\"Making a \"+str(size)+\"-inch pizza with following toppings.\")\n    for topping in toppings:\n        print(\"-\"+topping)",
      "execution_count": 82,
      "outputs": []
    },
    {
      "metadata": {
        "trusted": false
      },
      "cell_type": "code",
      "source": "make_pizza(16,'pepperoni')",
      "execution_count": 83,
      "outputs": [
        {
          "name": "stdout",
          "output_type": "stream",
          "text": "Making a 16-inch pizza with following toppings.\n-pepperoni\n"
        }
      ]
    },
    {
      "metadata": {
        "trusted": false
      },
      "cell_type": "code",
      "source": "make_pizza(10,'mushrooms','green peppers','extra cheese')",
      "execution_count": 84,
      "outputs": [
        {
          "name": "stdout",
          "output_type": "stream",
          "text": "Making a 10-inch pizza with following toppings.\n-mushrooms\n-green peppers\n-extra cheese\n"
        }
      ]
    },
    {
      "metadata": {
        "trusted": false
      },
      "cell_type": "code",
      "source": "def describe_pet(animalType='dog',petName='Kevin'):#default \n    print(animalType+' '+petName)\n",
      "execution_count": 85,
      "outputs": []
    },
    {
      "metadata": {
        "trusted": false
      },
      "cell_type": "code",
      "source": "describe_pet(animalType='Husky',petName='Herry')",
      "execution_count": 86,
      "outputs": [
        {
          "name": "stdout",
          "output_type": "stream",
          "text": "Husky Herry\n"
        }
      ]
    },
    {
      "metadata": {
        "trusted": false
      },
      "cell_type": "code",
      "source": "describe_pet()",
      "execution_count": 87,
      "outputs": [
        {
          "name": "stdout",
          "output_type": "stream",
          "text": "dog Kevin\n"
        }
      ]
    },
    {
      "metadata": {
        "trusted": false
      },
      "cell_type": "code",
      "source": "def build_profile(first,last,**user_info):# **:means muiltiple dictionarys\n    profile={}\n    profile['first_name']=first\n    profile['last_name']=last\n    for key,value in user_info.items():\n        profile[key]=value\n    return profile\n        ",
      "execution_count": 88,
      "outputs": []
    },
    {
      "metadata": {
        "trusted": false
      },
      "cell_type": "code",
      "source": "user=build_profile('ANYU','KUO',location='Taipei',field='CS')\nprint(user)",
      "execution_count": 89,
      "outputs": [
        {
          "name": "stdout",
          "output_type": "stream",
          "text": "{'first_name': 'ANYU', 'last_name': 'KUO', 'location': 'Taipei', 'field': 'CS'}\n"
        }
      ]
    },
    {
      "metadata": {},
      "cell_type": "markdown",
      "source": "# Midterm review"
    },
    {
      "metadata": {
        "trusted": false
      },
      "cell_type": "code",
      "source": "#quiz1\n#1\nname=\"Jerry\"\nprint(\"Hi\"+name+\" would you like to practive some Python today?\")",
      "execution_count": 2,
      "outputs": [
        {
          "name": "stdout",
          "output_type": "stream",
          "text": "HiJerry would you like to practive some Python today?\n"
        }
      ]
    },
    {
      "metadata": {
        "trusted": false
      },
      "cell_type": "code",
      "source": "#2\nprint(name.lower())\nprint(name.upper())\nprint(name.title())",
      "execution_count": 3,
      "outputs": [
        {
          "name": "stdout",
          "output_type": "stream",
          "text": "jerry\nJERRY\nJerry\n"
        }
      ]
    },
    {
      "metadata": {
        "trusted": false
      },
      "cell_type": "code",
      "source": "name2=\"\\tANYUKUO\\nJerry\\t\"\nprint(name2)\nprint(name2.lstrip())\nprint(name2.strip())",
      "execution_count": 8,
      "outputs": [
        {
          "name": "stdout",
          "output_type": "stream",
          "text": "\tANYUKUO\nJerry\t\nANYUKUO\nJerry\t\nANYUKUO\nJerry\n"
        }
      ]
    },
    {
      "metadata": {
        "trusted": false
      },
      "cell_type": "code",
      "source": "people=['Jerry','Sherry']\nfor i in people:\n    print('Hi'+i+'!',end=' ')\npeople.append('SAM')\npeople.pop()\nprint(people)\n\ndel(people[0])\nprint(people)",
      "execution_count": 23,
      "outputs": [
        {
          "name": "stdout",
          "output_type": "stream",
          "text": "HiJerry! HiSherry! ['Jerry', 'Sherry']\n['Sherry']\n"
        }
      ]
    },
    {
      "metadata": {
        "trusted": false
      },
      "cell_type": "code",
      "source": "#3\nL={'Jerry':[1,2,3],\n  'Sherry':[6,66,666]}\n\nfor name,number in L.items():\n    print(name+str(number))\n",
      "execution_count": 27,
      "outputs": [
        {
          "name": "stdout",
          "output_type": "stream",
          "text": "Jerry[1, 2, 3]\nSherry[6, 66, 666]\n"
        }
      ]
    },
    {
      "metadata": {
        "trusted": false
      },
      "cell_type": "code",
      "source": "#4\nM=[[1,2,3],\n   [4,5,6],\n   [7,8,9]]\n\n#a \nL=[x[1] for x in M]\nprint(L)\n#b\nL=[x[1] for x in M if x[1]%2!=0]\nprint(L)\n#c\nL=[M[i][i] for i in range(3)]\nprint(L)\n#d\nL=[[M[i][j] for i in range(3)] for j in range(3)]\nprint(L)\n#e\nL=[M[2-i][i] for i in reversed(range(3)) ]\nprint(L)",
      "execution_count": 44,
      "outputs": [
        {
          "name": "stdout",
          "output_type": "stream",
          "text": "[2, 5, 8]\n[5]\n[1, 5, 9]\n[[1, 4, 7], [2, 5, 8], [3, 6, 9]]\n[3, 5, 7]\n"
        }
      ]
    },
    {
      "metadata": {
        "trusted": false
      },
      "cell_type": "code",
      "source": "#a\nprint('%-.4f,%05d'%(3.14159,42))\nprint('%d,%f'%(3.14159,42))\nprint('%g,%e'%(3.14159,42))",
      "execution_count": 42,
      "outputs": [
        {
          "name": "stdout",
          "output_type": "stream",
          "text": "3.1416,00042\n3,42.000000\n3.14159,4.200000e+01\n"
        }
      ]
    },
    {
      "metadata": {},
      "cell_type": "markdown",
      "source": "# Midterm end at this point!"
    },
    {
      "metadata": {
        "trusted": false
      },
      "cell_type": "code",
      "source": "a = 3; b=4\na+1,a-1",
      "execution_count": 90,
      "outputs": [
        {
          "data": {
            "text/plain": "(4, 2)"
          },
          "execution_count": 90,
          "metadata": {},
          "output_type": "execute_result"
        }
      ]
    },
    {
      "metadata": {
        "trusted": false
      },
      "cell_type": "code",
      "source": "b*3,b/2 #devision will return a floating number",
      "execution_count": 91,
      "outputs": [
        {
          "data": {
            "text/plain": "(12, 2.0)"
          },
          "execution_count": 91,
          "metadata": {},
          "output_type": "execute_result"
        }
      ]
    },
    {
      "metadata": {
        "trusted": false
      },
      "cell_type": "code",
      "source": "a%2,b**2",
      "execution_count": 92,
      "outputs": [
        {
          "data": {
            "text/plain": "(1, 16)"
          },
          "execution_count": 92,
          "metadata": {},
          "output_type": "execute_result"
        }
      ]
    },
    {
      "metadata": {
        "trusted": false
      },
      "cell_type": "code",
      "source": "b/2+a",
      "execution_count": 93,
      "outputs": [
        {
          "data": {
            "text/plain": "5.0"
          },
          "execution_count": 93,
          "metadata": {},
          "output_type": "execute_result"
        }
      ]
    },
    {
      "metadata": {
        "trusted": false
      },
      "cell_type": "code",
      "source": "b/(2+a)",
      "execution_count": 94,
      "outputs": [
        {
          "data": {
            "text/plain": "0.8"
          },
          "execution_count": 94,
          "metadata": {},
          "output_type": "execute_result"
        }
      ]
    },
    {
      "metadata": {
        "trusted": false
      },
      "cell_type": "code",
      "source": "b//2+a # // return a integer  , / return a floating number",
      "execution_count": 95,
      "outputs": [
        {
          "data": {
            "text/plain": "5"
          },
          "execution_count": 95,
          "metadata": {},
          "output_type": "execute_result"
        }
      ]
    },
    {
      "metadata": {
        "trusted": false
      },
      "cell_type": "code",
      "source": "b//(2+a)",
      "execution_count": 96,
      "outputs": [
        {
          "data": {
            "text/plain": "0"
          },
          "execution_count": 96,
          "metadata": {},
          "output_type": "execute_result"
        }
      ]
    },
    {
      "metadata": {
        "trusted": false
      },
      "cell_type": "code",
      "source": "num=1/3.0 # 16 times \nnum",
      "execution_count": 97,
      "outputs": [
        {
          "data": {
            "text/plain": "0.3333333333333333"
          },
          "execution_count": 97,
          "metadata": {},
          "output_type": "execute_result"
        }
      ]
    },
    {
      "metadata": {
        "trusted": false
      },
      "cell_type": "code",
      "source": "print('%e'%num)",
      "execution_count": 98,
      "outputs": [
        {
          "name": "stdout",
          "output_type": "stream",
          "text": "3.333333e-01\n"
        }
      ]
    },
    {
      "metadata": {
        "trusted": false
      },
      "cell_type": "code",
      "source": "'%4.2f'%num  #4 spaces with 2 floating numbers",
      "execution_count": 99,
      "outputs": [
        {
          "data": {
            "text/plain": "'0.33'"
          },
          "execution_count": 99,
          "metadata": {},
          "output_type": "execute_result"
        }
      ]
    },
    {
      "metadata": {
        "trusted": false
      },
      "cell_type": "code",
      "source": "10/4\n",
      "execution_count": 100,
      "outputs": [
        {
          "data": {
            "text/plain": "2.5"
          },
          "execution_count": 100,
          "metadata": {},
          "output_type": "execute_result"
        }
      ]
    },
    {
      "metadata": {
        "trusted": false
      },
      "cell_type": "code",
      "source": "10/4.0",
      "execution_count": 101,
      "outputs": [
        {
          "data": {
            "text/plain": "2.5"
          },
          "execution_count": 101,
          "metadata": {},
          "output_type": "execute_result"
        }
      ]
    },
    {
      "metadata": {
        "trusted": false
      },
      "cell_type": "code",
      "source": "10//4",
      "execution_count": 102,
      "outputs": [
        {
          "data": {
            "text/plain": "2"
          },
          "execution_count": 102,
          "metadata": {},
          "output_type": "execute_result"
        }
      ]
    },
    {
      "metadata": {
        "trusted": false
      },
      "cell_type": "code",
      "source": "import math \nfrom math import floor\nfrom math import *",
      "execution_count": 103,
      "outputs": []
    },
    {
      "metadata": {
        "trusted": false
      },
      "cell_type": "code",
      "source": "trunc(5/float(-2))",
      "execution_count": 104,
      "outputs": [
        {
          "data": {
            "text/plain": "-2"
          },
          "execution_count": 104,
          "metadata": {},
          "output_type": "execute_result"
        }
      ]
    },
    {
      "metadata": {
        "trusted": false
      },
      "cell_type": "code",
      "source": "pi,e",
      "execution_count": 105,
      "outputs": [
        {
          "data": {
            "text/plain": "(3.141592653589793, 2.718281828459045)"
          },
          "execution_count": 105,
          "metadata": {},
          "output_type": "execute_result"
        }
      ]
    },
    {
      "metadata": {
        "trusted": false
      },
      "cell_type": "code",
      "source": "pow(2,4),2**4,2.0**4.0",
      "execution_count": 106,
      "outputs": [
        {
          "data": {
            "text/plain": "(16.0, 16, 16.0)"
          },
          "execution_count": 106,
          "metadata": {},
          "output_type": "execute_result"
        }
      ]
    },
    {
      "metadata": {
        "trusted": false
      },
      "cell_type": "code",
      "source": "round(pi,5)",
      "execution_count": 107,
      "outputs": [
        {
          "data": {
            "text/plain": "3.14159"
          },
          "execution_count": 107,
          "metadata": {},
          "output_type": "execute_result"
        }
      ]
    },
    {
      "metadata": {
        "trusted": false
      },
      "cell_type": "code",
      "source": "M=[[1,2,3],\n   [4,5,6],\n   [7,8,9]]",
      "execution_count": 22,
      "outputs": []
    },
    {
      "metadata": {
        "trusted": false
      },
      "cell_type": "code",
      "source": "L=[x[1] for x in M]\nL",
      "execution_count": 23,
      "outputs": [
        {
          "data": {
            "text/plain": "[2, 5, 8]"
          },
          "execution_count": 23,
          "metadata": {},
          "output_type": "execute_result"
        }
      ]
    },
    {
      "metadata": {
        "trusted": false
      },
      "cell_type": "code",
      "source": "L=[x[1] for x in M if x[1]%2!=0]\nL",
      "execution_count": 13,
      "outputs": [
        {
          "data": {
            "text/plain": "[5]"
          },
          "execution_count": 13,
          "metadata": {},
          "output_type": "execute_result"
        }
      ]
    },
    {
      "metadata": {
        "trusted": false
      },
      "cell_type": "code",
      "source": "L=[M[i][i] for i in range(3) ]\nL",
      "execution_count": 16,
      "outputs": [
        {
          "data": {
            "text/plain": "[1, 5, 9]"
          },
          "execution_count": 16,
          "metadata": {},
          "output_type": "execute_result"
        }
      ]
    },
    {
      "metadata": {
        "trusted": false
      },
      "cell_type": "code",
      "source": "L=[[M[i][j] for i in range(3) ]for j in range(3)]\nL",
      "execution_count": 20,
      "outputs": [
        {
          "data": {
            "text/plain": "[[1, 4, 7], [2, 5, 8], [3, 6, 9]]"
          },
          "execution_count": 20,
          "metadata": {},
          "output_type": "execute_result"
        }
      ]
    },
    {
      "metadata": {
        "trusted": false
      },
      "cell_type": "code",
      "source": "m=3\nn=2\ntest = [[0 for i in range(m)] for j in range(n)]\ntest",
      "execution_count": 21,
      "outputs": [
        {
          "data": {
            "text/plain": "[[0, 0, 0], [0, 0, 0]]"
          },
          "execution_count": 21,
          "metadata": {},
          "output_type": "execute_result"
        }
      ]
    },
    {
      "metadata": {
        "trusted": false
      },
      "cell_type": "code",
      "source": "import math\nmath.pi\nprint('%-e'%31.4)\n",
      "execution_count": 30,
      "outputs": [
        {
          "name": "stdout",
          "output_type": "stream",
          "text": "3.140000e+01\n"
        }
      ]
    },
    {
      "metadata": {},
      "cell_type": "markdown",
      "source": "# 2/28"
    },
    {
      "metadata": {
        "trusted": false
      },
      "cell_type": "code",
      "source": "def f(*args): print(args)",
      "execution_count": 1,
      "outputs": []
    },
    {
      "metadata": {
        "trusted": false
      },
      "cell_type": "code",
      "source": "f() #empty tuple",
      "execution_count": 2,
      "outputs": [
        {
          "name": "stdout",
          "output_type": "stream",
          "text": "()\n"
        }
      ]
    },
    {
      "metadata": {
        "trusted": false
      },
      "cell_type": "code",
      "source": "f(1)",
      "execution_count": 3,
      "outputs": [
        {
          "name": "stdout",
          "output_type": "stream",
          "text": "(1,)\n"
        }
      ]
    },
    {
      "metadata": {
        "trusted": false
      },
      "cell_type": "code",
      "source": "f(1,2,3,4)",
      "execution_count": 5,
      "outputs": [
        {
          "name": "stdout",
          "output_type": "stream",
          "text": "(1, 2, 3, 4)\n"
        }
      ]
    },
    {
      "metadata": {
        "trusted": false
      },
      "cell_type": "code",
      "source": "def f1(**argv): print(argv)",
      "execution_count": 6,
      "outputs": []
    },
    {
      "metadata": {
        "trusted": false
      },
      "cell_type": "code",
      "source": "f1() #empty dictionary",
      "execution_count": 7,
      "outputs": [
        {
          "name": "stdout",
          "output_type": "stream",
          "text": "{}\n"
        }
      ]
    },
    {
      "metadata": {
        "trusted": false
      },
      "cell_type": "code",
      "source": "f1(a=1,b=2)",
      "execution_count": 13,
      "outputs": [
        {
          "name": "stdout",
          "output_type": "stream",
          "text": "{'a': 1, 'b': 2}\n"
        }
      ]
    },
    {
      "metadata": {
        "trusted": false
      },
      "cell_type": "code",
      "source": "def f2(a,*pargs,**bargs): print(a,pargs,bargs)",
      "execution_count": 14,
      "outputs": []
    },
    {
      "metadata": {
        "trusted": false
      },
      "cell_type": "code",
      "source": "f2(1,2,3,x=1,y=2)",
      "execution_count": 15,
      "outputs": [
        {
          "name": "stdout",
          "output_type": "stream",
          "text": "1 (2, 3) {'x': 1, 'y': 2}\n"
        }
      ]
    },
    {
      "metadata": {
        "trusted": false
      },
      "cell_type": "code",
      "source": "args=(1,2,3,4)",
      "execution_count": 19,
      "outputs": []
    },
    {
      "metadata": {
        "trusted": false
      },
      "cell_type": "code",
      "source": "def funs(a,b,c,d): print(a,b,c,d)",
      "execution_count": 24,
      "outputs": []
    },
    {
      "metadata": {
        "trusted": false
      },
      "cell_type": "code",
      "source": "funs(*args)",
      "execution_count": 25,
      "outputs": [
        {
          "name": "stdout",
          "output_type": "stream",
          "text": "1 2 3 4\n"
        }
      ]
    },
    {
      "metadata": {
        "trusted": false
      },
      "cell_type": "code",
      "source": "args={'a':1,'b':2,'c':3,'d':4}",
      "execution_count": 27,
      "outputs": []
    },
    {
      "metadata": {
        "trusted": false
      },
      "cell_type": "code",
      "source": "funs(**args)",
      "execution_count": 28,
      "outputs": [
        {
          "name": "stdout",
          "output_type": "stream",
          "text": "1 2 3 4\n"
        }
      ]
    },
    {
      "metadata": {
        "trusted": false
      },
      "cell_type": "code",
      "source": "funs(*(1,2),**{'d':4,'c':3})",
      "execution_count": 31,
      "outputs": [
        {
          "name": "stdout",
          "output_type": "stream",
          "text": "1 2 3 4\n"
        }
      ]
    },
    {
      "metadata": {
        "trusted": false
      },
      "cell_type": "code",
      "source": "funs(1,*(2,3),**{'d':4})",
      "execution_count": 33,
      "outputs": [
        {
          "name": "stdout",
          "output_type": "stream",
          "text": "1 2 3 4\n"
        }
      ]
    },
    {
      "metadata": {
        "trusted": false
      },
      "cell_type": "code",
      "source": "funs(1,*(2,),**{'c':3,'d':4})",
      "execution_count": 36,
      "outputs": [
        {
          "name": "stdout",
          "output_type": "stream",
          "text": "1 2 3 4\n"
        }
      ]
    },
    {
      "metadata": {
        "trusted": false
      },
      "cell_type": "code",
      "source": "0b1,0b10000,0b11111111",
      "execution_count": 39,
      "outputs": [
        {
          "data": {
            "text/plain": "(1, 16, 255)"
          },
          "execution_count": 39,
          "metadata": {},
          "output_type": "execute_result"
        }
      ]
    },
    {
      "metadata": {
        "trusted": false
      },
      "cell_type": "code",
      "source": "oct(64),hex(64),bin(64)",
      "execution_count": 40,
      "outputs": [
        {
          "data": {
            "text/plain": "('0o100', '0x40', '0b1000000')"
          },
          "execution_count": 40,
          "metadata": {},
          "output_type": "execute_result"
        }
      ]
    },
    {
      "metadata": {},
      "cell_type": "markdown",
      "source": "# 3/5"
    },
    {
      "metadata": {
        "trusted": false
      },
      "cell_type": "code",
      "source": "x=0b1001\ny=0b0101\nbin(x ^ y) #XOR",
      "execution_count": 11,
      "outputs": [
        {
          "data": {
            "text/plain": "'0b1100'"
          },
          "execution_count": 11,
          "metadata": {},
          "output_type": "execute_result"
        }
      ]
    },
    {
      "metadata": {
        "trusted": false
      },
      "cell_type": "code",
      "source": "bin(x<<2)",
      "execution_count": 12,
      "outputs": [
        {
          "data": {
            "text/plain": "'0b100100'"
          },
          "execution_count": 12,
          "metadata": {},
          "output_type": "execute_result"
        }
      ]
    },
    {
      "metadata": {
        "trusted": false
      },
      "cell_type": "code",
      "source": "x.bit_length()",
      "execution_count": 16,
      "outputs": [
        {
          "data": {
            "text/plain": "4"
          },
          "execution_count": 16,
          "metadata": {},
          "output_type": "execute_result"
        }
      ]
    },
    {
      "metadata": {
        "trusted": false
      },
      "cell_type": "code",
      "source": "len(bin(x))-2",
      "execution_count": 19,
      "outputs": [
        {
          "data": {
            "text/plain": "4"
          },
          "execution_count": 19,
          "metadata": {},
          "output_type": "execute_result"
        }
      ]
    },
    {
      "metadata": {
        "trusted": false
      },
      "cell_type": "code",
      "source": "L=[]\ntype(L)",
      "execution_count": 20,
      "outputs": [
        {
          "data": {
            "text/plain": "list"
          },
          "execution_count": 20,
          "metadata": {},
          "output_type": "execute_result"
        }
      ]
    },
    {
      "metadata": {
        "trusted": false
      },
      "cell_type": "code",
      "source": "if(type(L)==type([])):\n    print(True)",
      "execution_count": 23,
      "outputs": [
        {
          "name": "stdout",
          "output_type": "stream",
          "text": "True\n"
        }
      ]
    },
    {
      "metadata": {
        "trusted": false
      },
      "cell_type": "code",
      "source": "sum=0\nN=100\nfor i in range(1,N+1):\n    sum+=i\nprint(sum)",
      "execution_count": 27,
      "outputs": [
        {
          "name": "stdout",
          "output_type": "stream",
          "text": "5050\n"
        }
      ]
    },
    {
      "metadata": {
        "trusted": false
      },
      "cell_type": "code",
      "source": "L=[1,2,3,4,5]\ndef mysum(L):\n    print(L)\n    if not L: return 0\n    return L[0]+mysum(L[1:])\nmysum(L)",
      "execution_count": 5,
      "outputs": [
        {
          "name": "stdout",
          "output_type": "stream",
          "text": "[1, 2, 3, 4, 5]\n[2, 3, 4, 5]\n[3, 4, 5]\n[4, 5]\n[5]\n[]\n"
        },
        {
          "data": {
            "text/plain": "15"
          },
          "execution_count": 5,
          "metadata": {},
          "output_type": "execute_result"
        }
      ]
    },
    {
      "metadata": {
        "trusted": false
      },
      "cell_type": "code",
      "source": "L=[1,[2,[3,4],5],6,[7,8]]\ndef sumtree(L):\n    tot=0\n    for x in L:\n        if(not isinstance(x, list)):\n            tot+=x\n        else:\n            tot+=sumtree(x)\n    return tot\nsumtree(L)\n    ",
      "execution_count": 8,
      "outputs": [
        {
          "data": {
            "text/plain": "36"
          },
          "execution_count": 8,
          "metadata": {},
          "output_type": "execute_result"
        }
      ]
    },
    {
      "metadata": {
        "trusted": false
      },
      "cell_type": "code",
      "source": "def echo(msg): print(msg)\n#echo('abc')\nx=echo('abc')\nx",
      "execution_count": 13,
      "outputs": [
        {
          "name": "stdout",
          "output_type": "stream",
          "text": "abc\n"
        }
      ]
    },
    {
      "metadata": {
        "trusted": false
      },
      "cell_type": "code",
      "source": "def Echo(f,*arg): f(*arg)\nEcho(echo,\"Arg Call\")",
      "execution_count": 17,
      "outputs": [
        {
          "name": "stdout",
          "output_type": "stream",
          "text": "Arg Call\n"
        }
      ]
    },
    {
      "metadata": {
        "trusted": false
      },
      "cell_type": "code",
      "source": "schedule = [(echo,'Spam!'),(echo,'Ham!')]\nfor (f,arg) in schedule : f(arg)",
      "execution_count": 16,
      "outputs": [
        {
          "name": "stdout",
          "output_type": "stream",
          "text": "Spam!\nHam!\n"
        }
      ]
    },
    {
      "metadata": {
        "trusted": false
      },
      "cell_type": "code",
      "source": "def make(label):\n    def echo(msg) : print(label+\" \"+msg)\n    return echo\nF = make('Spam')\nF('Ham!')",
      "execution_count": 22,
      "outputs": [
        {
          "name": "stdout",
          "output_type": "stream",
          "text": "Spam Ham!\n"
        }
      ]
    },
    {
      "metadata": {
        "trusted": false
      },
      "cell_type": "code",
      "source": "#lambda no return\nf=lambda x,y,z:x+y+z\nf(2,3,4)",
      "execution_count": 25,
      "outputs": [
        {
          "data": {
            "text/plain": "9"
          },
          "execution_count": 25,
          "metadata": {},
          "output_type": "execute_result"
        }
      ]
    },
    {
      "metadata": {
        "scrolled": true,
        "trusted": false
      },
      "cell_type": "code",
      "source": "tuple1=(1,2,3)\nEcho(echo,'hello world')",
      "execution_count": 8,
      "outputs": [
        {
          "name": "stdout",
          "output_type": "stream",
          "text": "hello world\n"
        }
      ]
    },
    {
      "metadata": {},
      "cell_type": "markdown",
      "source": "# 3/7"
    },
    {
      "metadata": {
        "trusted": false
      },
      "cell_type": "code",
      "source": "import random\nrandom.randint(15,25)",
      "execution_count": 27,
      "outputs": [
        {
          "data": {
            "text/plain": "16"
          },
          "execution_count": 27,
          "metadata": {},
          "output_type": "execute_result"
        }
      ]
    },
    {
      "metadata": {
        "trusted": false
      },
      "cell_type": "code",
      "source": "random.random() #[0,1]",
      "execution_count": 5,
      "outputs": [
        {
          "data": {
            "text/plain": "0.7051948685819316"
          },
          "execution_count": 5,
          "metadata": {},
          "output_type": "execute_result"
        }
      ]
    },
    {
      "metadata": {
        "trusted": false
      },
      "cell_type": "code",
      "source": "random.seed(1)",
      "execution_count": 31,
      "outputs": []
    },
    {
      "metadata": {
        "trusted": false
      },
      "cell_type": "code",
      "source": " x=lambda a='fee',b='five',c='four': a+b+c",
      "execution_count": 13,
      "outputs": []
    },
    {
      "metadata": {
        "trusted": false
      },
      "cell_type": "code",
      "source": "x('fffff')",
      "execution_count": 14,
      "outputs": [
        {
          "data": {
            "text/plain": "'ffffffivefour'"
          },
          "execution_count": 14,
          "metadata": {},
          "output_type": "execute_result"
        }
      ]
    },
    {
      "metadata": {
        "trusted": false
      },
      "cell_type": "code",
      "source": "def knight():\n    title='hello'\n    action=lambda x: title+' '+x\n    return action\nact=knight()\nmsg=act('robin')\nmsg",
      "execution_count": 32,
      "outputs": [
        {
          "data": {
            "text/plain": "'hello robin'"
          },
          "execution_count": 32,
          "metadata": {},
          "output_type": "execute_result"
        }
      ]
    },
    {
      "metadata": {
        "trusted": false
      },
      "cell_type": "code",
      "source": "# lambda function is a small anonymous function\n# Can take any number of arguments, but can only have one expression\n\n# lambda arg1,arg2,...,argn : operation\n\nL=[lambda x : x**2,\n   lambda x : x**3,\n   lambda x : x**4]\nfor f in L : print(f(2))",
      "execution_count": 18,
      "outputs": [
        {
          "name": "stdout",
          "output_type": "stream",
          "text": "4\n8\n16\n"
        }
      ]
    },
    {
      "metadata": {
        "trusted": false
      },
      "cell_type": "code",
      "source": "L[0](3)",
      "execution_count": 34,
      "outputs": [
        {
          "data": {
            "text/plain": "9"
          },
          "execution_count": 34,
          "metadata": {},
          "output_type": "execute_result"
        }
      ]
    },
    {
      "metadata": {
        "trusted": false
      },
      "cell_type": "code",
      "source": "def f1(x): return x**2\ndef f2(x): return x**3\ndef f3(x): return x**4\nL=[f1,f2,f3]\nL[0](3)",
      "execution_count": 33,
      "outputs": [
        {
          "data": {
            "text/plain": "9"
          },
          "execution_count": 33,
          "metadata": {},
          "output_type": "execute_result"
        }
      ]
    },
    {
      "metadata": {
        "trusted": false
      },
      "cell_type": "code",
      "source": "from time import time\nfrom random import seed, randint",
      "execution_count": 36,
      "outputs": []
    },
    {
      "metadata": {
        "trusted": false
      },
      "cell_type": "code",
      "source": "seed(time())",
      "execution_count": 37,
      "outputs": []
    },
    {
      "metadata": {},
      "cell_type": "markdown",
      "source": "# 3/19"
    },
    {
      "metadata": {
        "trusted": false
      },
      "cell_type": "code",
      "source": "L = [lambda x: x**2,lambda x: x**3, lambda x: x**4]\nbeg='one'\n{'already':lambda:2+2,'got': lambda:2*4, 'one':lambda:2**6}[beg]()",
      "execution_count": 44,
      "outputs": [
        {
          "data": {
            "text/plain": "64"
          },
          "execution_count": 44,
          "metadata": {},
          "output_type": "execute_result"
        }
      ]
    },
    {
      "metadata": {
        "trusted": false
      },
      "cell_type": "code",
      "source": "lower = lambda x,y: x if x<y else y\nlower('bb','aa')",
      "execution_count": 38,
      "outputs": [
        {
          "data": {
            "text/plain": "'aa'"
          },
          "execution_count": 38,
          "metadata": {},
          "output_type": "execute_result"
        }
      ]
    },
    {
      "metadata": {
        "trusted": false
      },
      "cell_type": "code",
      "source": "lower('1','2')",
      "execution_count": 2,
      "outputs": [
        {
          "data": {
            "text/plain": "'1'"
          },
          "execution_count": 2,
          "metadata": {},
          "output_type": "execute_result"
        }
      ]
    },
    {
      "metadata": {
        "trusted": false
      },
      "cell_type": "code",
      "source": "#map(func,args)\nL=[2,3,4,6,7]\nlist(map(lambda x: x**2,L))",
      "execution_count": 46,
      "outputs": [
        {
          "data": {
            "text/plain": "[4, 9, 16, 36, 49]"
          },
          "execution_count": 46,
          "metadata": {},
          "output_type": "execute_result"
        }
      ]
    },
    {
      "metadata": {
        "trusted": false
      },
      "cell_type": "code",
      "source": "import sys\nshowall = lambda x: list(map(sys.stdout.write,x))\n#write does not print new line \n\nshowall(['spam\\n','toost\\n','eggs\\n'])",
      "execution_count": 50,
      "outputs": [
        {
          "name": "stdout",
          "output_type": "stream",
          "text": "spam\ntoost\neggs\n"
        },
        {
          "data": {
            "text/plain": "[None, None, None]"
          },
          "execution_count": 50,
          "metadata": {},
          "output_type": "execute_result"
        }
      ]
    },
    {
      "metadata": {
        "trusted": false
      },
      "cell_type": "code",
      "source": "#tuple\n(lambda x: lambda y: x+y)(99)(4)",
      "execution_count": 53,
      "outputs": [
        {
          "data": {
            "text/plain": "103"
          },
          "execution_count": 53,
          "metadata": {},
          "output_type": "execute_result"
        }
      ]
    },
    {
      "metadata": {
        "trusted": false
      },
      "cell_type": "code",
      "source": "def action(x): return lambda y:x+y\n\nact=action(99)\nact(2)",
      "execution_count": 14,
      "outputs": [
        {
          "data": {
            "text/plain": "101"
          },
          "execution_count": 14,
          "metadata": {},
          "output_type": "execute_result"
        }
      ]
    },
    {
      "metadata": {
        "trusted": false
      },
      "cell_type": "code",
      "source": "act(5)",
      "execution_count": 15,
      "outputs": [
        {
          "data": {
            "text/plain": "104"
          },
          "execution_count": 15,
          "metadata": {},
          "output_type": "execute_result"
        }
      ]
    },
    {
      "metadata": {
        "trusted": false
      },
      "cell_type": "code",
      "source": "str([1,2])+\"34\"",
      "execution_count": 16,
      "outputs": [
        {
          "data": {
            "text/plain": "'[1, 2]34'"
          },
          "execution_count": 16,
          "metadata": {},
          "output_type": "execute_result"
        }
      ]
    },
    {
      "metadata": {
        "trusted": false
      },
      "cell_type": "code",
      "source": "[1,2]+list('34')",
      "execution_count": 17,
      "outputs": [
        {
          "data": {
            "text/plain": "[1, 2, '3', '4']"
          },
          "execution_count": 17,
          "metadata": {},
          "output_type": "execute_result"
        }
      ]
    },
    {
      "metadata": {
        "trusted": false
      },
      "cell_type": "code",
      "source": "#map(func,args)\n\nlist(map(abs,[-1,-2,0,1,2]))",
      "execution_count": 18,
      "outputs": [
        {
          "data": {
            "text/plain": "[1, 2, 0, 1, 2]"
          },
          "execution_count": 18,
          "metadata": {},
          "output_type": "execute_result"
        }
      ]
    },
    {
      "metadata": {
        "trusted": false
      },
      "cell_type": "code",
      "source": "L1=[1,2,3,4];L2=[5,6,7,8]\nlist(zip(L1,L2))",
      "execution_count": 59,
      "outputs": [
        {
          "data": {
            "text/plain": "[(1, 5), (2, 6), (3, 7), (4, 8)]"
          },
          "execution_count": 59,
          "metadata": {},
          "output_type": "execute_result"
        }
      ]
    },
    {
      "metadata": {
        "trusted": false
      },
      "cell_type": "code",
      "source": "s1='abc';s2='xyz123'\nlist(zip(s1,s2))",
      "execution_count": 22,
      "outputs": [
        {
          "data": {
            "text/plain": "[('a', 'x'), ('b', 'y'), ('c', 'z')]"
          },
          "execution_count": 22,
          "metadata": {},
          "output_type": "execute_result"
        }
      ]
    },
    {
      "metadata": {
        "trusted": false
      },
      "cell_type": "code",
      "source": "list(zip(L1))",
      "execution_count": 24,
      "outputs": [
        {
          "data": {
            "text/plain": "[(1,), (2,), (3,), (4,)]"
          },
          "execution_count": 24,
          "metadata": {},
          "output_type": "execute_result"
        }
      ]
    },
    {
      "metadata": {
        "trusted": false
      },
      "cell_type": "code",
      "source": "keys=['spam','eggs','toast']\nvals=[1,3,5]\nlist(zip(keys,vals))",
      "execution_count": 25,
      "outputs": [
        {
          "data": {
            "text/plain": "[('spam', 1), ('eggs', 3), ('toast', 5)]"
          },
          "execution_count": 25,
          "metadata": {},
          "output_type": "execute_result"
        }
      ]
    },
    {
      "metadata": {
        "trusted": false
      },
      "cell_type": "code",
      "source": "#1\nD={}\nfor (x,y) in zip(keys,vals): D[x]=y\nD",
      "execution_count": 31,
      "outputs": [
        {
          "data": {
            "text/plain": "{'spam': 1, 'eggs': 3, 'toast': 5}"
          },
          "execution_count": 31,
          "metadata": {},
          "output_type": "execute_result"
        }
      ]
    },
    {
      "metadata": {
        "trusted": false
      },
      "cell_type": "code",
      "source": "#2 Perfer way to use\ndict(zip(keys,vals))",
      "execution_count": 28,
      "outputs": [
        {
          "data": {
            "text/plain": "{'spam': 1, 'eggs': 3, 'toast': 5}"
          },
          "execution_count": 28,
          "metadata": {},
          "output_type": "execute_result"
        }
      ]
    },
    {
      "metadata": {
        "trusted": false
      },
      "cell_type": "code",
      "source": "#3\n{k:v for (k,v) in zip(keys,vals)}",
      "execution_count": 30,
      "outputs": [
        {
          "data": {
            "text/plain": "{'spam': 1, 'eggs': 3, 'toast': 5}"
          },
          "execution_count": 30,
          "metadata": {},
          "output_type": "execute_result"
        }
      ]
    },
    {
      "metadata": {
        "trusted": false
      },
      "cell_type": "code",
      "source": "[abs(x) for x in range(-5,5)]",
      "execution_count": 32,
      "outputs": [
        {
          "data": {
            "text/plain": "[5, 4, 3, 2, 1, 0, 1, 2, 3, 4]"
          },
          "execution_count": 32,
          "metadata": {},
          "output_type": "execute_result"
        }
      ]
    },
    {
      "metadata": {
        "scrolled": true,
        "trusted": false
      },
      "cell_type": "code",
      "source": "[x for x in range(-5,5) if x>0]",
      "execution_count": 33,
      "outputs": [
        {
          "data": {
            "text/plain": "[1, 2, 3, 4]"
          },
          "execution_count": 33,
          "metadata": {},
          "output_type": "execute_result"
        }
      ]
    },
    {
      "metadata": {
        "trusted": false
      },
      "cell_type": "code",
      "source": "# filter creates a list of elements for which a function returns true.\nlist(filter(lambda x : x>0,range(-5,5)))",
      "execution_count": 16,
      "outputs": [
        {
          "data": {
            "text/plain": "[1, 2, 3, 4]"
          },
          "execution_count": 16,
          "metadata": {},
          "output_type": "execute_result"
        }
      ]
    },
    {
      "metadata": {
        "trusted": false
      },
      "cell_type": "code",
      "source": "# The reduce(fun,seq) function is used to apply a particular function \n# passed in its argument to all of the list elements mentioned in the \n# sequence passed along. This function is defined in “functools” module.\n\nfrom functools import reduce\nreduce(lambda x,y: x+y,[1,2,3,4])\n#      ----func-------,---seq----",
      "execution_count": 36,
      "outputs": [
        {
          "data": {
            "text/plain": "10"
          },
          "execution_count": 36,
          "metadata": {},
          "output_type": "execute_result"
        }
      ]
    },
    {
      "metadata": {},
      "cell_type": "markdown",
      "source": "# Quiz 6\n"
    },
    {
      "metadata": {
        "trusted": false
      },
      "cell_type": "code",
      "source": "def A(a,b=4,c=5): print(a,b,c)\nA(1,2)\ndef B(a,b,c=5): print(a,b,c)\nB(1,c=3,b=2)\ndef C(a,*p): print(a,p)\nC(1,2,3)\ndef D(a,**q): print(a,q)\nD(a=1,c=3,b=2)\ndef E(a,b,c=3,d=4): print(a,b,c,d)\nE(1,*(5,6))\ndef F(a,*p,**q): print(a,p,q)\nF(1,2,3,x=1,y=2)\ndef G(a,b,c,d): print(a,b,c,d)\nG(1,*(2,),c=3,**{'d':4})\ndef H(a,*b,c=6,**d): print(a,b,c,d)\nH(1,*(2,3),c=7,**dict(x=4,y=5))",
      "execution_count": 5,
      "outputs": [
        {
          "name": "stdout",
          "output_type": "stream",
          "text": "1 2 5\n1 2 3\n1 (2, 3)\n1 {'c': 3, 'b': 2}\n1 5 6 4\n1 (2, 3) {'x': 1, 'y': 2}\n1 2 3 4\n1 (2, 3) 7 {'x': 4, 'y': 5}\n"
        }
      ]
    },
    {
      "metadata": {
        "trusted": false
      },
      "cell_type": "code",
      "source": "16 , 0o20,0x10,0b10000",
      "execution_count": 6,
      "outputs": [
        {
          "data": {
            "text/plain": "(16, 16, 16, 16)"
          },
          "execution_count": 6,
          "metadata": {},
          "output_type": "execute_result"
        }
      ]
    },
    {
      "metadata": {
        "trusted": false
      },
      "cell_type": "code",
      "source": "int('16'),int('20',8), int('10',16),int('10000',2)",
      "execution_count": 7,
      "outputs": [
        {
          "data": {
            "text/plain": "(16, 16, 16, 16)"
          },
          "execution_count": 7,
          "metadata": {},
          "output_type": "execute_result"
        }
      ]
    },
    {
      "metadata": {
        "trusted": false
      },
      "cell_type": "code",
      "source": "'%d, %o , %x , %X'%(15,15,15,15)",
      "execution_count": 8,
      "outputs": [
        {
          "data": {
            "text/plain": "'15, 17 , f , F'"
          },
          "execution_count": 8,
          "metadata": {},
          "output_type": "execute_result"
        }
      ]
    },
    {
      "metadata": {
        "trusted": false
      },
      "cell_type": "code",
      "source": "10<<2,10>>2",
      "execution_count": 9,
      "outputs": [
        {
          "data": {
            "text/plain": "(40, 2)"
          },
          "execution_count": 9,
          "metadata": {},
          "output_type": "execute_result"
        }
      ]
    },
    {
      "metadata": {
        "trusted": false
      },
      "cell_type": "code",
      "source": "oct(10|3), hex(10&3),bin(10^3)",
      "execution_count": 10,
      "outputs": [
        {
          "data": {
            "text/plain": "('0o13', '0x2', '0b1001')"
          },
          "execution_count": 10,
          "metadata": {},
          "output_type": "execute_result"
        }
      ]
    },
    {
      "metadata": {},
      "cell_type": "markdown",
      "source": "# 3/21 Thu"
    },
    {
      "metadata": {
        "trusted": false
      },
      "cell_type": "code",
      "source": "S='spam'\n# enumerate() allows us to loop over something and have an automatic counter.\nE=enumerate(S)\nE",
      "execution_count": 6,
      "outputs": [
        {
          "data": {
            "text/plain": "<enumerate at 0x111f34240>"
          },
          "execution_count": 6,
          "metadata": {},
          "output_type": "execute_result"
        }
      ]
    },
    {
      "metadata": {
        "trusted": false
      },
      "cell_type": "code",
      "source": "next(E)",
      "execution_count": 7,
      "outputs": [
        {
          "data": {
            "text/plain": "(0, 's')"
          },
          "execution_count": 7,
          "metadata": {},
          "output_type": "execute_result"
        }
      ]
    },
    {
      "metadata": {
        "trusted": false
      },
      "cell_type": "code",
      "source": "# get the value itself and also get the location\nfor (i,c) in enumerate(S):\n    print(i,c)",
      "execution_count": 4,
      "outputs": [
        {
          "name": "stdout",
          "output_type": "stream",
          "text": "0 s\n1 p\n2 a\n3 m\n"
        }
      ]
    },
    {
      "metadata": {
        "trusted": false
      },
      "cell_type": "code",
      "source": "[c*i for (i,c) in enumerate(S)]",
      "execution_count": 8,
      "outputs": [
        {
          "data": {
            "text/plain": "['', 'p', 'aa', 'mmm']"
          },
          "execution_count": 8,
          "metadata": {},
          "output_type": "execute_result"
        }
      ]
    },
    {
      "metadata": {
        "trusted": false
      },
      "cell_type": "code",
      "source": "# 1 EASY AND FASTER WAY\n# x=0 go through y and x=1 go through y and so on\n[x+y for x in [0,1,2] for y in [100,200,300]]",
      "execution_count": 10,
      "outputs": [
        {
          "data": {
            "text/plain": "[100, 200, 300, 101, 201, 301, 102, 202, 302]"
          },
          "execution_count": 10,
          "metadata": {},
          "output_type": "execute_result"
        }
      ]
    },
    {
      "metadata": {
        "trusted": false
      },
      "cell_type": "code",
      "source": "# 2\nnew_list=[]\nfor x in [0,1,2]:\n    for y in [100,200,300]:\n        new_list.append(x+y)\nprint(new_list)",
      "execution_count": 13,
      "outputs": [
        {
          "name": "stdout",
          "output_type": "stream",
          "text": "[100, 200, 300, 101, 201, 301, 102, 202, 302]\n"
        }
      ]
    },
    {
      "metadata": {
        "trusted": false
      },
      "cell_type": "code",
      "source": "[x+y+z for x in 'spam' if x in 'sm'\\\n    for y in 'SPAM' if y in ('P','A')\\\n    for z in '123' if z > '1']",
      "execution_count": 16,
      "outputs": [
        {
          "data": {
            "text/plain": "['sP2', 'sP3', 'sA2', 'sA3', 'mP2', 'mP3', 'mA2', 'mA3']"
          },
          "execution_count": 16,
          "metadata": {},
          "output_type": "execute_result"
        }
      ]
    },
    {
      "metadata": {
        "trusted": false
      },
      "cell_type": "code",
      "source": "# the reason it return 0 is because we use \"return\" in for loop\ndef gensquare(N):\n    for i in range(N): return i**2\n    #                  ↑ use \"yield\" instead, which means do not stop, see followed example\nprint(gensquare(5))",
      "execution_count": 26,
      "outputs": [
        {
          "name": "stdout",
          "output_type": "stream",
          "text": "0\n"
        }
      ]
    },
    {
      "metadata": {
        "trusted": false
      },
      "cell_type": "code",
      "source": "[i**2 for i in range(5)]",
      "execution_count": 20,
      "outputs": [
        {
          "data": {
            "text/plain": "[0, 1, 4, 9, 16]"
          },
          "execution_count": 20,
          "metadata": {},
          "output_type": "execute_result"
        }
      ]
    },
    {
      "metadata": {
        "trusted": false
      },
      "cell_type": "code",
      "source": "def gensquare(N):\n    #for i in range(N): return i**2\n    #                  ↑ use \"yield\" instead, which means do not stop\n    for i in range(N): yield i**2\n\nx = gensquare(5)\nnext(x)   #---> 0\nnext(x)   #---> 1",
      "execution_count": 28,
      "outputs": [
        {
          "data": {
            "text/plain": "1"
          },
          "execution_count": 28,
          "metadata": {},
          "output_type": "execute_result"
        }
      ]
    },
    {
      "metadata": {
        "trusted": false
      },
      "cell_type": "code",
      "source": "# use () will get generator type\n(i**2 for i in range(5))",
      "execution_count": 29,
      "outputs": [
        {
          "data": {
            "text/plain": "<generator object <genexpr> at 0x111fab8e0>"
          },
          "execution_count": 29,
          "metadata": {},
          "output_type": "execute_result"
        }
      ]
    },
    {
      "metadata": {
        "trusted": false
      },
      "cell_type": "code",
      "source": "G = (i**2 for i in range(5))\nnext(G)  #---> 0\nnext(G)  #---> 1",
      "execution_count": 31,
      "outputs": [
        {
          "data": {
            "text/plain": "1"
          },
          "execution_count": 31,
          "metadata": {},
          "output_type": "execute_result"
        }
      ]
    },
    {
      "metadata": {
        "trusted": false
      },
      "cell_type": "code",
      "source": "# string.join(iterable)\n#       --------------generator-------------------\n''.join(x.upper() for x in 'aaa,bbb,ccc'.split(','))",
      "execution_count": 9,
      "outputs": [
        {
          "data": {
            "text/plain": "'AAABBBCCC'"
          },
          "execution_count": 9,
          "metadata": {},
          "output_type": "execute_result"
        }
      ]
    },
    {
      "metadata": {},
      "cell_type": "markdown",
      "source": "# 3/26 Tu"
    },
    {
      "metadata": {
        "trusted": false
      },
      "cell_type": "code",
      "source": "# Create a list\n[x*x for x in range(10) if not x%2]",
      "execution_count": 2,
      "outputs": [
        {
          "data": {
            "text/plain": "[0, 4, 16, 36, 64]"
          },
          "execution_count": 2,
          "metadata": {},
          "output_type": "execute_result"
        }
      ]
    },
    {
      "metadata": {
        "trusted": false
      },
      "cell_type": "code",
      "source": "# Create a dictionary\n# Key can be string, char, int\n{x:x*x for x in range(10) if not x%2}",
      "execution_count": 3,
      "outputs": [
        {
          "data": {
            "text/plain": "{0: 0, 2: 4, 4: 16, 6: 36, 8: 64}"
          },
          "execution_count": 3,
          "metadata": {},
          "output_type": "execute_result"
        }
      ]
    },
    {
      "metadata": {
        "trusted": false
      },
      "cell_type": "code",
      "source": "# Create a generator object G\nG = (x*x for x in range(10) if not x%2)\nlist(G)",
      "execution_count": 8,
      "outputs": [
        {
          "data": {
            "text/plain": "[0, 4, 16, 36, 64]"
          },
          "execution_count": 8,
          "metadata": {},
          "output_type": "execute_result"
        }
      ]
    },
    {
      "metadata": {
        "trusted": false
      },
      "cell_type": "code",
      "source": "def permutate(seq):\n    # it is empty\n    if not seq: return [seq]\n    else:\n        rest=[]\n        for i in range(len(seq)):\n            # from 0 to i, for i+1 to end\n            rest=seq[:i]+seq[i+1:]\n            for x in permutate(rest):\n#               rest.append(seq[i:i+1]+x)\n                yield seq[i:i+1]+x\n# ANOTHER WAY : ⏫  yield seq[i:i+1]+x\n    return rest",
      "execution_count": 31,
      "outputs": []
    },
    {
      "metadata": {
        "trusted": false
      },
      "cell_type": "code",
      "source": "seq=list(range(10))\np1=permutate(seq)\n#len(p1)\n#p1[0]\n#p1[1]",
      "execution_count": 39,
      "outputs": [
        {
          "data": {
            "text/plain": "[]"
          },
          "execution_count": 39,
          "metadata": {},
          "output_type": "execute_result"
        }
      ]
    },
    {
      "metadata": {
        "trusted": false
      },
      "cell_type": "code",
      "source": "p2 =permutate(seq)\nnext(p2)",
      "execution_count": 37,
      "outputs": [
        {
          "ename": "StopIteration",
          "evalue": "[0, 1, 2, 3, 4, 5, 6, 7, 8]",
          "output_type": "error",
          "traceback": [
            "\u001b[0;31m---------------------------------------------------------------------------\u001b[0m",
            "\u001b[0;31mStopIteration\u001b[0m                             Traceback (most recent call last)",
            "\u001b[0;32m<ipython-input-37-5b4229e0ef47>\u001b[0m in \u001b[0;36m<module>\u001b[0;34m()\u001b[0m\n\u001b[1;32m      1\u001b[0m \u001b[0mp2\u001b[0m \u001b[0;34m=\u001b[0m\u001b[0mpermutate\u001b[0m\u001b[0;34m(\u001b[0m\u001b[0mseq\u001b[0m\u001b[0;34m)\u001b[0m\u001b[0;34m\u001b[0m\u001b[0;34m\u001b[0m\u001b[0m\n\u001b[0;32m----> 2\u001b[0;31m \u001b[0mnext\u001b[0m\u001b[0;34m(\u001b[0m\u001b[0mp2\u001b[0m\u001b[0;34m)\u001b[0m\u001b[0;34m\u001b[0m\u001b[0;34m\u001b[0m\u001b[0m\n\u001b[0m",
            "\u001b[0;31mStopIteration\u001b[0m: [0, 1, 2, 3, 4, 5, 6, 7, 8]"
          ]
        }
      ]
    },
    {
      "metadata": {
        "trusted": false
      },
      "cell_type": "code",
      "source": "class FirstClass:\n    # set data element and give value to element\n    def setdata(self,value):\n        self.data = value\n    def display(self):\n        print(self.data)\nx=FirstClass()\ny=FirstClass()",
      "execution_count": 3,
      "outputs": []
    },
    {
      "metadata": {
        "trusted": false
      },
      "cell_type": "code",
      "source": "x.setdata(\"King Arhur\")\ny.setdata(3.14159)\nx.display()\ny.display()",
      "execution_count": 5,
      "outputs": [
        {
          "name": "stdout",
          "output_type": "stream",
          "text": "King Arhur\n3.14159\n"
        }
      ]
    },
    {
      "metadata": {
        "trusted": false
      },
      "cell_type": "code",
      "source": "x.data = \"new value\"\nx.display()",
      "execution_count": 6,
      "outputs": [
        {
          "name": "stdout",
          "output_type": "stream",
          "text": "new value\n"
        }
      ]
    },
    {
      "metadata": {
        "trusted": false
      },
      "cell_type": "code",
      "source": "# give a new attribute\nx.name = \"spam\"",
      "execution_count": 9,
      "outputs": []
    },
    {
      "metadata": {
        "trusted": false
      },
      "cell_type": "code",
      "source": "#Inheritance\n#      subclass   superclass\nclass SecondClass(FirstClass):\n    def display(self):\n        print('Current value = \"%s\"' % self.data)",
      "execution_count": 11,
      "outputs": []
    },
    {
      "metadata": {
        "trusted": false
      },
      "cell_type": "code",
      "source": "z = SecondClass()\nz.setdata(42)\nz.display()\nx.display()",
      "execution_count": 13,
      "outputs": [
        {
          "name": "stdout",
          "output_type": "stream",
          "text": "Current value = \"42\"\nnew value\n"
        }
      ]
    },
    {
      "metadata": {
        "trusted": false
      },
      "cell_type": "code",
      "source": "class ThirdClass(SecondClass):\n    def __init__(self,value):\n        self.data=value\na = ThirdClass('abc')    ",
      "execution_count": 15,
      "outputs": []
    },
    {
      "metadata": {
        "trusted": false
      },
      "cell_type": "code",
      "source": "",
      "execution_count": null,
      "outputs": []
    }
  ],
  "metadata": {
    "kernelspec": {
      "name": "python3",
      "display_name": "Python 3",
      "language": "python"
    },
    "language_info": {
      "mimetype": "text/x-python",
      "nbconvert_exporter": "python",
      "name": "python",
      "file_extension": ".py",
      "version": "3.5.4",
      "pygments_lexer": "ipython3",
      "codemirror_mode": {
        "version": 3,
        "name": "ipython"
      }
    }
  },
  "nbformat": 4,
  "nbformat_minor": 2
}